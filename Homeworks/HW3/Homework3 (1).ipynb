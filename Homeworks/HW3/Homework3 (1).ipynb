{
 "cells": [
  {
   "cell_type": "markdown",
   "id": "7b342eb3-36dd-47ef-9e69-0d949d06d74c",
   "metadata": {},
   "source": [
    "#  <center> UNIVERSIDAD SAN FRANCISCO DE QUITO </center>\n",
    "#  <center> COLEGIO: CIENCIAS E INGENIERIAS </center>\n",
    "#  <center> ORGANIZACIÓN DE COMPUTADORES </center> \n",
    "### **Nombre:** Johana Duchi Tipán                          \n",
    "### **Código Banner:** 00321980\n",
    "### **Fecha de entrega:** 17 de mayo del 2023.         \n",
    "### **NRC:** 2359\n",
    "## <center>**Homework 3** <center>"
   ]
  },
  {
   "cell_type": "markdown",
   "id": "3053036a-f5f1-4701-9634-fe9c41e90691",
   "metadata": {},
   "source": [
    "#### **1) Use assembly to solve the following problems:**\n"
   ]
  },
  {
   "cell_type": "markdown",
   "id": "74982eee-32e9-45b8-b24b-a0cd0488dd6d",
   "metadata": {},
   "source": [
    "```\n",
    "a) Obtain the 50th Fibonacci number                             \n",
    "```"
   ]
  },
  {
   "cell_type": "code",
   "execution_count": null,
   "id": "0c4462b4-2c77-4273-8df4-9c9bbdc35919",
   "metadata": {},
   "outputs": [],
   "source": [
    "# Obtain the 50th Fibonacci number \n",
    "\n",
    ".text\n",
    ".globl main\n",
    "main:\n",
    "    # Calcular el número Fibonacci en la posición 50\n",
    "    li $t0, 50   # Número 50\n",
    "    li $t1, 0    # Número Fibonacci anterior F(n-1)\n",
    "    li $t2, 1    # Número Fibonacci actual F(n)\n",
    "    li $t3, 2    # Contador del bucle\n",
    "\n",
    "    fibonacci_loop:\n",
    "        beq $t3, $t0, fibonacci_done   # Verificar si el contador del bucle es igual a 50\n",
    "\n",
    "        # Calcular el siguiente número Fibonacci\n",
    "        addu $t4, $t1, $t2   # F(n) = F(n-1) + F(n)\n",
    "        move $t1, $t2        # Actualizar F(n-1) a F(n)\n",
    "        move $t2, $t4        # Actualizar F(n) al nuevo número Fibonacci\n",
    "\n",
    "        addiu $t3, $t3, 1    # Incrementar el contador del bucle\n",
    "        j fibonacci_loop\n",
    "\n",
    "    fibonacci_done:\n",
    "        # Imprimir el resultado\n",
    "        move $a0, $t2   # Mover el número Fibonacci a $a0\n",
    "        li $v0, 1       # Código de llamada al sistema para imprimir un entero\n",
    "        syscall\n",
    "\n",
    "        # Salir del programa\n",
    "        li $v0, 10\n",
    "        syscall"
   ]
  },
  {
   "cell_type": "markdown",
   "id": "911e2454-d0fd-436e-82bc-4de88f24aad9",
   "metadata": {},
   "source": [
    "```\n",
    "b) Find out if a given year is leap                           \n",
    "```"
   ]
  },
  {
   "cell_type": "code",
   "execution_count": null,
   "id": "a9140901-ada0-4a81-9ef5-f0840ced6145",
   "metadata": {},
   "outputs": [],
   "source": [
    "# Find out if a given year is leap\n",
    "\n",
    ".data\n",
    "    msg_menu: .asciiz \"\\nIngrese un year (o ingrese 0 para salir): \"\n",
    "    msg_leap: .asciiz \"year bisiesto\\n\"\n",
    "    not_msg_leap: .asciiz \"No es un year bisiesto\\n\"\n",
    "\n",
    ".text\n",
    ".globl main\n",
    "main:\n",
    "    li $v0, 4               # Carga el valor 4 en la llamada al sistema para imprimir un mensaje\n",
    "    la $a0, msg_menu        # Carga la direccion del mensaje para ingresar un year en $a0\n",
    "    syscall                 # Imprime el mensaje\n",
    "\n",
    "loop:\n",
    "    li $v0, 5               # Carga el valor 5 en la llamada al sistema para leer un entero\n",
    "    syscall                 # Lee el year ingresado y lo guarda en $v0\n",
    "    move $s0, $v0           # Guarda el year ingresado en $s0\n",
    "\n",
    "    beqz $s0, exit          # Salta a la etiqueta exit si el year ingresado es igual a cero\n",
    "\n",
    "    li $t0, 4                           # Carga el valor 4 en $t0\n",
    "    div $s0, $t0                        # Divide $s0 por $t0\n",
    "    mfhi $t1                            # Obtiene el resto de la division y lo guarda en $t1\n",
    "    bne $t1, $zero, not_divisible_by_4  # Salta a not_divisible_by_4 si el resto de la division no es cero\n",
    "\n",
    "    li $t0, 100                                         # Carga el valor 100 en $t0\n",
    "    div $s0, $t0                                        # Divide $s0 por $t0\n",
    "    mfhi $t1                                            # Obtiene el resto de la division y lo guarda en $t1\n",
    "    bne $t1, $zero, divisible_by_4_not_divisible_by_100 # Salta a divisible_by_4_not_divisible_by_100 si el resto de la division no es cero\n",
    "\n",
    "    li $t0, 400              # Carga el valor 400 en $t0\n",
    "    div $s0, $t0             # Divide $s0 por $t0\n",
    "    mfhi $t1                 # Obtiene el resto de la division y lo guarda en $t1\n",
    "    bne $t1, $zero, not_leap # Salta a not_leap si el resto de la división no es cero\n",
    "\n",
    "    li $v0, 4               # Carga el valor 4 en la llamada al sistema para imprimir un mensaje\n",
    "    la $a0, msg_leap        # Carga la direccion del mensaje \"year bisiesto\" en $a0\n",
    "    syscall                 # Imprime el mensaje\n",
    "    j continue_loop         # Salta a la etiqueta continue_loop\n",
    "\n",
    "not_divisible_by_4:\n",
    "    li $v0, 4               # Carga el valor 4 en la llamada al sistema para imprimir un mensaje\n",
    "    la $a0, not_msg_leap    # Carga la direccion del mensaje \"No es un year bisiesto\" en $a0\n",
    "    syscall                 # Imprime el mensaje\n",
    "    j continue_loop         # Salta a la etiqueta continue_loop\n",
    "\n",
    "divisible_by_4_not_divisible_by_100:\n",
    "    li $v0, 4               # Carga el valor 4 en la llamada al sistema para imprimir un mensaje\n",
    "    la $a0, msg_leap        # Carga la direccion del mensaje \"year bisiesto\" en $a0\n",
    "    syscall                 # Imprime el mensaje\n",
    "    j continue_loop         # Salta a la etiqueta continue_loop\n",
    "\n",
    "not_leap:\n",
    "    li $v0, 4               # Carga el valor 4 en la llamada al sistema para imprimir un mensaje\n",
    "    la $a0, not_msg_leap    # Carga la direccion del mensaje \"No es un year bisiesto\" en $a0\n",
    "    syscall                 # Imprime el mensaje\n",
    "    j continue_loop         # Salta a la etiqueta continue_loop\n",
    "\n",
    "continue_loop:\n",
    "    li $v0, 4               # Carga el valor 4 en la llamada al sistema para imprimir un mensaje\n",
    "    la $a0, msg_menu          # Carga la direccion del mensaje para ingresar un year en $a0\n",
    "    syscall                 # Imprime el mensaje\n",
    "    j loop                  # Salta a la etiqueta loop para repetir el ciclo\n",
    "\n",
    "exit:\n",
    "    li $v0, 10              # Carga el valor 10 en la llamada al sistema para salir del programa\n",
    "    syscall                 # Termina el programa"
   ]
  },
  {
   "cell_type": "markdown",
   "id": "9ecfe362-b9e5-44d6-9c35-050a8d283e9d",
   "metadata": {},
   "source": [
    "##### Referencias:"
   ]
  },
  {
   "cell_type": "markdown",
   "id": "1ee1e17b-2071-4e4a-916f-1f17103cd9fb",
   "metadata": {},
   "source": [
    "Anónimo. (2023). rekad’s solution for Leap in MIPS Assembly on Exercism. Exercism. https://exercism.org/tracks/mips/exercises/leap/solutions/60b67cdfd6fb4863b9e13650aebaf83e\n",
    "\n"
   ]
  },
  {
   "cell_type": "markdown",
   "id": "80690e64-ca4c-406d-9aa4-bc39e3d6d2f9",
   "metadata": {},
   "source": [
    "```\n",
    "c) Given an array of integers, calculate the average                                                    \n",
    "```"
   ]
  },
  {
   "cell_type": "code",
   "execution_count": null,
   "id": "4f789079-3bab-4980-847a-a4fff46b9007",
   "metadata": {},
   "outputs": [],
   "source": [
    "# Given an array of integers, calculate the average\n",
    "\n",
    ".data\n",
    "array:  .word 1,2,3,4,5        # Arreglo prueba\n",
    "size: .word 5                  # Numero de elementos del arreglo\n",
    "result: .word 0                # Variable para almacenar el average\n",
    "\n",
    ".text\n",
    ".globl main\n",
    "main:\n",
    "    la $t0, array      # Carga la dirección del arreglo en $t0\n",
    "    lw $t1, size     # Carga la longitud del arreglo en $t1\n",
    "\n",
    "    li $t2, 0          # Inicializa la suma en 0\n",
    "    li $t3, 0          # Inicializa el índice en 0\n",
    "\n",
    "loop:\n",
    "    beq $t3, $t1, calculate_average  # Si el índice es igual a la longitud, salta a calculate_average\n",
    "\n",
    "    lw $t4, ($t0)      # Carga el elemento actual en $t4\n",
    "    add $t2, $t2, $t4  # Suma el elemento actual a la suma\n",
    "\n",
    "    addi $t0, $t0, 4   # Mueve al siguiente elemento en el arreglo\n",
    "    addi $t3, $t3, 1   # Incrementa el índice\n",
    "\n",
    "    j loop # Salta de vuelta a loop\n",
    "\n",
    "calculate_average:\n",
    "    div $t2, $t1       # Divide la suma por la longitud\n",
    "    mflo $t2           # Almacena el cociente en $t2\n",
    "\n",
    "    sw $t2, result     # Almacena el promedio en la variable resultado\n",
    "\n",
    "     # Imprime el promedio\n",
    "    li $v0, 1          # Imprime el promedio\n",
    "    lw $a0, result     # Carga el promedio desde la variable resultado\n",
    "    syscall            # Realiza la llamada al sistema para imprimir el promedio\n",
    "\n",
    "    li $v0, 10         # Sale del programa\n",
    "    syscall"
   ]
  },
  {
   "cell_type": "markdown",
   "id": "87c552c9-8e95-4bb4-864c-6357dde5b01b",
   "metadata": {},
   "source": [
    "##### Referencias:"
   ]
  },
  {
   "cell_type": "markdown",
   "id": "1af36a34-c4ba-4b22-85e9-1cab7be166e9",
   "metadata": {},
   "source": [
    "McQuain,F.,Ribbens.(2009).Arrays. https://vbrunell.github.io/docs/MIPS%20Arrays.pdf"
   ]
  },
  {
   "cell_type": "markdown",
   "id": "772adda7-a74c-4ee3-95eb-654e519f6e95",
   "metadata": {},
   "source": [
    "```\n",
    "d) Write a program to transform from Celsius to Fahrenheit and vice versa                                                 \n",
    "```"
   ]
  },
  {
   "cell_type": "code",
   "execution_count": null,
   "id": "7177b28e-e17f-4c79-8944-83aaffa0421d",
   "metadata": {},
   "outputs": [],
   "source": [
    "# Write a program to transform from Celsius to Fahrenheit and vice versa\n",
    "\n",
    ".data\n",
    "msg_menu: .asciiz \"\\n\\nSelecciona una opcion:\\n1. Convertir Celsius a Fahrenheit\\n2. Convertir Fahrenheit a Celsius\\n3. Salir\\n\"\n",
    "tempCelsius: .asciiz \"Ingresa la temperatura en Celsius: \"\n",
    "tempFahrenheit: .asciiz \"Ingresa la temperatura en Fahrenheit: \"\n",
    "resultFahrenheit: .asciiz \"Resultado Fahrenheit: \"\n",
    "resultCelsius:    .asciiz \"Resultado Celsius: \"\n",
    "msg_invalidOption: .asciiz \"Opcion invalida. Por favor, intenta nuevamente.\\n\"\n",
    "\n",
    ".text\n",
    ".globl main\n",
    "\n",
    "main:\n",
    "    j displayMenu  # Saltar a la funcion displayMenu\n",
    "\n",
    "displayMenu:\n",
    "    li $v0, 4          # Cargar el codigo del servicio de impresion de cadena\n",
    "    la $a0, msg_menu   # Cargar la direccion del mensaje de seleccion de opcion\n",
    "    syscall\t       # Imprime el mensaje\n",
    "\n",
    "    li $v0, 5          # Cargar el codigo del servicio de lectura de entero\n",
    "    syscall\n",
    "    move $t0, $v0      # Almacenar la opcion seleccionada en $t0\n",
    "\n",
    "    beq $t0, 1, celsiusToFahrenheit   # Si la opcion es 1, saltar a la funcion celsiusToFahrenheit\n",
    "    beq $t0, 2, fahrenheitToCelsius   # Si la opcion es 2, saltar a la funcion fahrenheitToCelsius\n",
    "    beq $t0, 3, exitProgram           # Si la opcion es 3, saltar a la funcion exitProgram\n",
    "    j invalidOption                   # Si la opcion no es valida, saltar a la funcion invalidOption\n",
    "\n",
    "celsiusToFahrenheit:\n",
    "    # Convertir Celsius a Fahrenheit\n",
    "    li $v0, 4             # Cargar el codigo del servicio de impresion de cadena\n",
    "    la $a0, tempCelsius   # Cargar la direccion del mensaje para ingresar la temperatura en Celsius\n",
    "    syscall               # Imprime el mensaje\n",
    "\n",
    "    li $v0, 5          # Cargar el codigo del servicio de lectura de entero\n",
    "    syscall            # Lee la temperatura en Celsius\n",
    "    move $t1, $v0      # Almacenar la temperatura en Celsius en $t1\n",
    "\n",
    "    mul $t2, $t1, 9    # Multiplicar Celsius por 9\n",
    "    div $t2, $t2, 5    # Dividir entre 5\n",
    "    addi $t2, $t2, 32  # Sumar 32 para obtener Fahrenheit\n",
    "\n",
    "    li $v0, 4                  # Cargar el codigo del servicio de impresion de cadena\n",
    "    la $a0, resultFahrenheit   # Cargar la direccion del mensaje de resultado en Fahrenheit\n",
    "    syscall                    # Imprime el mensaje\n",
    "\n",
    "    li $v0, 1          # Cargar el codigo del servicio de impresion de entero\n",
    "    move $a0, $t2      # Cargar el resultado en Fahrenheit en $a0\n",
    "    syscall            # Imprime el mensaje\n",
    "\n",
    "    j displayMenu      # Volver a la funcion displayMenu\n",
    "\n",
    "fahrenheitToCelsius:\n",
    "    # Convertir Fahrenheit a Celsius\n",
    "    li $v0, 4                # Cargar el codigo del servicio de impresion de cadena\n",
    "    la $a0, tempFahrenheit   # Cargar la direccion del mensaje para ingresar la temperatura en Fahrenheit\n",
    "    syscall                  # Imprime el mensaje\n",
    "\n",
    "    li $v0, 5          # Cargar el codigo del servicio de lectura de entero\n",
    "    syscall            # Lee la temperatura en Fahrenheit\n",
    "    move $t3, $v0      # Almacenar la temperatura en Fahrenheit en $t3\n",
    "\n",
    "    sub $t4, $t3, 32   # Restar 32 a Fahrenheit\n",
    "    mul $t4, $t4, 5    # Multiplicar por 5\n",
    "    div $t4, $t4, 9    # Dividir entre 9\n",
    "\n",
    "    li $v0, 4          # Cargar el codigo del servicio de impresion de cadena\n",
    "    la $a0, resultCelsius   # Cargar la direccion del mensaje de resultado en Celsius\n",
    "    syscall\n",
    "\n",
    "    li $v0, 1          # Cargar el codigo del servicio de impresion de entero\n",
    "    move $a0, $t4      # Cargar el resultado en Celsius en $a0\n",
    "    syscall            # Imprime el mensaje\n",
    "\n",
    "    j displayMenu      # Volver a la funcion displayMenu\n",
    "\n",
    "exitProgram:\n",
    "    li $v0, 10         # Cargar el codigo del servicio de salida del programa\n",
    "    syscall            # Salir del programa\n",
    "\n",
    "invalidOption:\n",
    "    li $v0, 4          # Cargar el codigo del servicio de impresion de cadena\n",
    "    la $a0, msg_invalidOption   # Cargar la direccion del mensaje de opcion invalida\n",
    "    syscall\n",
    "\n",
    "    j displayMenu      # Volver a la funcion displayMenu"
   ]
  },
  {
   "cell_type": "markdown",
   "id": "de14769d-7f2f-44a8-81b7-89dd8ba626fc",
   "metadata": {},
   "source": [
    "#### **2) For the following memory space, what would it look like after executing the assembly code below:**\n"
   ]
  },
  {
   "cell_type": "code",
   "execution_count": 10,
   "id": "8a0361c2-11b6-4f80-a204-b5534b45543d",
   "metadata": {},
   "outputs": [
    {
     "data": {
      "text/html": [
       "<div>\n",
       "<style scoped>\n",
       "    .dataframe tbody tr th:only-of-type {\n",
       "        vertical-align: middle;\n",
       "    }\n",
       "\n",
       "    .dataframe tbody tr th {\n",
       "        vertical-align: top;\n",
       "    }\n",
       "\n",
       "    .dataframe thead th {\n",
       "        text-align: right;\n",
       "    }\n",
       "</style>\n",
       "<table border=\"1\" class=\"dataframe\">\n",
       "  <thead>\n",
       "    <tr style=\"text-align: right;\">\n",
       "      <th></th>\n",
       "      <th>Address</th>\n",
       "      <th>Contents</th>\n",
       "    </tr>\n",
       "  </thead>\n",
       "  <tbody>\n",
       "    <tr>\n",
       "      <th>0</th>\n",
       "      <td>10</td>\n",
       "      <td>1</td>\n",
       "    </tr>\n",
       "    <tr>\n",
       "      <th>1</th>\n",
       "      <td>11</td>\n",
       "      <td>4</td>\n",
       "    </tr>\n",
       "    <tr>\n",
       "      <th>2</th>\n",
       "      <td>12</td>\n",
       "      <td>5</td>\n",
       "    </tr>\n",
       "    <tr>\n",
       "      <th>3</th>\n",
       "      <td>13</td>\n",
       "      <td>112</td>\n",
       "    </tr>\n",
       "    <tr>\n",
       "      <th>4</th>\n",
       "      <td>14</td>\n",
       "      <td>7</td>\n",
       "    </tr>\n",
       "  </tbody>\n",
       "</table>\n",
       "</div>"
      ],
      "text/plain": [
       "   Address  Contents\n",
       "0       10         1\n",
       "1       11         4\n",
       "2       12         5\n",
       "3       13       112\n",
       "4       14         7"
      ]
     },
     "execution_count": 10,
     "metadata": {},
     "output_type": "execute_result"
    }
   ],
   "source": [
    "import pandas as pd \n",
    "tabla = pd.DataFrame(data = [[10,1],[11,4],[12,5],[13,112],[14,7]], columns = ['Address','Contents'])\n",
    "tabla"
   ]
  },
  {
   "cell_type": "markdown",
   "id": "25dab04d-74ee-46d5-af28-2848ee302e68",
   "metadata": {},
   "source": [
    "```\n",
    "LOAD 14\n",
    "ADD (12)\n",
    "STORE 12\n",
    "```"
   ]
  },
  {
   "cell_type": "markdown",
   "id": "21512b63-abf1-4e7f-90d0-6428e1a7995e",
   "metadata": {},
   "source": [
    "##### Espacio de memoria inicial:"
   ]
  },
  {
   "cell_type": "code",
   "execution_count": 11,
   "id": "62ebeeb9-ea64-41d0-bd76-5c3de231903b",
   "metadata": {},
   "outputs": [
    {
     "data": {
      "text/html": [
       "<div>\n",
       "<style scoped>\n",
       "    .dataframe tbody tr th:only-of-type {\n",
       "        vertical-align: middle;\n",
       "    }\n",
       "\n",
       "    .dataframe tbody tr th {\n",
       "        vertical-align: top;\n",
       "    }\n",
       "\n",
       "    .dataframe thead th {\n",
       "        text-align: right;\n",
       "    }\n",
       "</style>\n",
       "<table border=\"1\" class=\"dataframe\">\n",
       "  <thead>\n",
       "    <tr style=\"text-align: right;\">\n",
       "      <th></th>\n",
       "      <th>Address</th>\n",
       "      <th>Contents</th>\n",
       "    </tr>\n",
       "  </thead>\n",
       "  <tbody>\n",
       "    <tr>\n",
       "      <th>0</th>\n",
       "      <td>10</td>\n",
       "      <td>1</td>\n",
       "    </tr>\n",
       "    <tr>\n",
       "      <th>1</th>\n",
       "      <td>11</td>\n",
       "      <td>4</td>\n",
       "    </tr>\n",
       "    <tr>\n",
       "      <th>2</th>\n",
       "      <td>12</td>\n",
       "      <td>5</td>\n",
       "    </tr>\n",
       "    <tr>\n",
       "      <th>3</th>\n",
       "      <td>13</td>\n",
       "      <td>112</td>\n",
       "    </tr>\n",
       "    <tr>\n",
       "      <th>4</th>\n",
       "      <td>14</td>\n",
       "      <td>7</td>\n",
       "    </tr>\n",
       "  </tbody>\n",
       "</table>\n",
       "</div>"
      ],
      "text/plain": [
       "   Address  Contents\n",
       "0       10         1\n",
       "1       11         4\n",
       "2       12         5\n",
       "3       13       112\n",
       "4       14         7"
      ]
     },
     "execution_count": 11,
     "metadata": {},
     "output_type": "execute_result"
    }
   ],
   "source": [
    "import pandas as pd \n",
    "tabla = pd.DataFrame(data = [[10,1],[11,4],[12,5],[13,112],[14,7]], columns = ['Address','Contents'])\n",
    "tabla"
   ]
  },
  {
   "cell_type": "markdown",
   "id": "9b453d51-f757-4df5-bdab-cc28fad4fb64",
   "metadata": {},
   "source": [
    "###### **LOAD 14:**"
   ]
  },
  {
   "cell_type": "markdown",
   "id": "606fe592-c97c-4a57-a9a8-a4f0777d1cdb",
   "metadata": {},
   "source": [
    "```\n",
    "La instrucción \"LOAD 14\" carga el valor de la dirección de memoria 14 directamente en la dirección de memoria de destino especificada en las instrucciones posteriores.\n",
    "```"
   ]
  },
  {
   "cell_type": "markdown",
   "id": "4e5dc962-cda4-4d50-be1a-c3139309b95a",
   "metadata": {},
   "source": [
    "###### **ADD (12):**"
   ]
  },
  {
   "cell_type": "markdown",
   "id": "da101cd8-9421-49a2-815e-4f3519fda214",
   "metadata": {},
   "source": [
    "```\n",
    "La instrucción \"ADD(12)\" suma el valor almacenado en la dirección de memoria 12 al valor cargado desde la dirección de memoria 14.\n",
    "```"
   ]
  },
  {
   "cell_type": "markdown",
   "id": "afdc9bc1-c1a3-4874-9e71-a72de32ad7f4",
   "metadata": {},
   "source": [
    "###### **STORE 12:**"
   ]
  },
  {
   "cell_type": "markdown",
   "id": "2bb9ec25-f0f6-4830-9f91-992df7151bd3",
   "metadata": {},
   "source": [
    "```\n",
    "La instrucción \"STORE 12\" almacena el resultado de la suma directamente en la dirección de memoria 12.\n",
    "```"
   ]
  },
  {
   "cell_type": "markdown",
   "id": "4e1be99b-7ca7-42f6-aa89-51859426efd0",
   "metadata": {},
   "source": [
    "```\n",
    "Por lo tanto, el espacio de memoria sería:\n",
    "```"
   ]
  },
  {
   "cell_type": "code",
   "execution_count": 12,
   "id": "40d7b8c7-af1f-46b3-a6b9-6d1f671109f2",
   "metadata": {},
   "outputs": [
    {
     "data": {
      "text/html": [
       "<div>\n",
       "<style scoped>\n",
       "    .dataframe tbody tr th:only-of-type {\n",
       "        vertical-align: middle;\n",
       "    }\n",
       "\n",
       "    .dataframe tbody tr th {\n",
       "        vertical-align: top;\n",
       "    }\n",
       "\n",
       "    .dataframe thead th {\n",
       "        text-align: right;\n",
       "    }\n",
       "</style>\n",
       "<table border=\"1\" class=\"dataframe\">\n",
       "  <thead>\n",
       "    <tr style=\"text-align: right;\">\n",
       "      <th></th>\n",
       "      <th>Address</th>\n",
       "      <th>Contents</th>\n",
       "    </tr>\n",
       "  </thead>\n",
       "  <tbody>\n",
       "    <tr>\n",
       "      <th>0</th>\n",
       "      <td>10</td>\n",
       "      <td>1</td>\n",
       "    </tr>\n",
       "    <tr>\n",
       "      <th>1</th>\n",
       "      <td>11</td>\n",
       "      <td>4</td>\n",
       "    </tr>\n",
       "    <tr>\n",
       "      <th>2</th>\n",
       "      <td>12</td>\n",
       "      <td>12</td>\n",
       "    </tr>\n",
       "    <tr>\n",
       "      <th>3</th>\n",
       "      <td>13</td>\n",
       "      <td>112</td>\n",
       "    </tr>\n",
       "    <tr>\n",
       "      <th>4</th>\n",
       "      <td>14</td>\n",
       "      <td>7</td>\n",
       "    </tr>\n",
       "  </tbody>\n",
       "</table>\n",
       "</div>"
      ],
      "text/plain": [
       "   Address  Contents\n",
       "0       10         1\n",
       "1       11         4\n",
       "2       12        12\n",
       "3       13       112\n",
       "4       14         7"
      ]
     },
     "execution_count": 12,
     "metadata": {},
     "output_type": "execute_result"
    }
   ],
   "source": [
    "import pandas as pd \n",
    "tabla = pd.DataFrame(data = [[10,1],[11,4],[12,12],[13,112],[14,7]], columns = ['Address','Contents'])\n",
    "tabla"
   ]
  },
  {
   "cell_type": "markdown",
   "id": "daa11ecd-c877-4a6d-8e23-bf0d559787ef",
   "metadata": {},
   "source": [
    "\n",
    "Por lo tanto, el valor final en la dirección de memoria 12 es 12. La instrucción \"STORE 12\" simplemente almacena el valor y reemplaza el valor anterior."
   ]
  },
  {
   "cell_type": "markdown",
   "id": "835c7d1d-e3f0-4040-9491-45dab28dbf3c",
   "metadata": {
    "tags": []
   },
   "source": [
    "#### **3) Implement a function named abs_diff that calculates the absolute value of the difference of two inputs a and b (i.e., |a-b|), and get the assembly code output.**"
   ]
  },
  {
   "cell_type": "code",
   "execution_count": null,
   "id": "e6c1b341-4900-443e-81e8-b888195a0ed6",
   "metadata": {},
   "outputs": [],
   "source": [
    "# Implement a function named abs_diff that calculates the absolute value of the difference of two inputs a and b \n",
    "# (i.e., |a-b|), and get the assembly code output\n",
    "\n",
    ".data\n",
    "result: .word 0                     \n",
    "msg_a: .asciiz \"Ingrese el valor de a: \"                 \n",
    "msg_b: .asciiz \"Ingrese el valor de b: \"                \n",
    "msg_continue: .asciiz \"\\n\\nIngrese 1 para continuar, 0 para salir: \"  \n",
    "\n",
    ".text\n",
    ".globl main\n",
    "main:\n",
    "    # Loop hasta que el usuario ingrese 0\n",
    "    loop:\n",
    "        # Solicitar input para a\n",
    "        li $v0, 4                   # Cargar el codigo de la llamada al sistema para imprimir una cadena\n",
    "        la $a0, msg_a               # Cargar la direccion del mensaje para ingresar a en $a0\n",
    "        syscall                     # Realizar la llamada al sistema para imprimir el mensaje\n",
    "\n",
    "        # Leer input para a\n",
    "        li $v0, 5                   # Cargar el codigo de la llamada al sistema para leer un entero\n",
    "        syscall                     # Realizar la llamada al sistema para leer el valor de a\n",
    "        move $s0, $v0               # Almacenar el valor de a en $s0\n",
    "\n",
    "        # Solicitar input para b\n",
    "        li $v0, 4                   # Cargar el codigo de la llamada al sistema para imprimir una cadena\n",
    "        la $a0, msg_b               # Cargar la direccion del mensaje para ingresar b en $a0\n",
    "        syscall                     # Realizar la llamada al sistema para imprimir el mensaje\n",
    "\n",
    "        # Leer input para b\n",
    "        li $v0, 5                   # Cargar el codigo de la llamada al sistema para leer un entero\n",
    "        syscall                     # Realizar la llamada al sistema para leer el valor de b\n",
    "        move $s1, $v0               # Almacenar el valor de b en $s1\n",
    "\n",
    "        # Llamar a la funcion abs_diff\n",
    "        move $a0, $s0               # Pasar el valor de a en $a0\n",
    "        move $a1, $s1               # Pasar el valor de b en $a1\n",
    "        jal abs_diff                # Realizar la llamada a la funcion abs_diff\n",
    "\n",
    "        # Mostrar el resultado\n",
    "        move $a0, $v0               # Pasar el resultado en $v0 como argumento para imprimir\n",
    "        li $v0, 1                   # Cargar el codigo de la llamada al sistema para imprimir un entero\n",
    "        syscall                     # Realizar la llamada al sistema para imprimir el resultado\n",
    "\n",
    "        # Solicitar input para continuar o salir\n",
    "        li $v0, 4                   # Cargar el codigo de la llamada al sistema para imprimir una cadena\n",
    "        la $a0, msg_continue        # Cargar la direccion del mensaje para continuar o salir en $a0\n",
    "        syscall                     # Realizar la llamada al sistema para imprimir el mensaje\n",
    "\n",
    "        # Leer input para continuar o salir\n",
    "        li $v0, 5                   # Cargar el codigo de la llamada al sistema para leer un entero\n",
    "        syscall                     # Realizar la llamada al sistema para leer el valor de continuar o salir\n",
    "        move $s2, $v0               # Almacenar el valor de continuar o salir en $s2\n",
    "\n",
    "        # Verificar si el usuario desea salir\n",
    "        beq $s2, 0, end_loop        # Si el valor es igual a 0, salir del loop\n",
    "\n",
    "        # Repetir el loop\n",
    "        j loop                      # Saltar al inicio del loop\n",
    "\n",
    "    end_loop:\n",
    "        # Salir del programa\n",
    "        li $v0, 10                  # Cargar el codigo de la llamada al sistema para salir\n",
    "        syscall                     # Realizar la llamada al sistema para salir del programa\n",
    "\n",
    "abs_diff:\n",
    "    subu $v0, $a0, $a1              # Calcular la diferencia entre a y b y almacenarla en $v0\n",
    "    bltz $v0, negative              # Saltar si la diferencia es menor que cero\n",
    "    jr $ra                          # Retornar al punto de llamada\n",
    "\n",
    "negative:\n",
    "    negu $v0, $v0                   # Calcular el valor absoluto de la diferencia negativa y almacenarla en $v0\n",
    "    jr $ra                          # Retornar al punto de llamada"
   ]
  },
  {
   "cell_type": "markdown",
   "id": "8258501d-1f57-4d2c-85f4-2d1e63095c51",
   "metadata": {},
   "source": [
    "#### **4) What are the differences among sequential access, direct access, and random access?**"
   ]
  },
  {
   "cell_type": "markdown",
   "id": "40c20503-c9c8-4df5-b7c2-3a2ee6b0ffdc",
   "metadata": {},
   "source": [
    "El acceso secuencial implica acceder a los datos en una secuencia lineal específica, donde los datos se organizan en registros y se debe acceder a ellos en el orden en que se almacenan. El acceso directo, por otro lado, permite acceder a bloques o registros específicos dirigiéndose a su ubicación física única, sin necesidad de atravesar los datos precedentes. Este método implica especificar la dirección directamente para llegar a la ubicación deseada. El acceso aleatorio, por su parte permite el acceso inmediato a cualquier ubicación de la memoria, ya que cada ubicación direccionable tiene un mecanismo de direccionamiento único. El tiempo necesario para acceder a una ubicación específica en el acceso aleatorio es constante e independiente de los accesos anteriores. En resumen, el acceso secuencial sigue un orden predefinido, el acceso directo permite acceder a ubicaciones específicas en función de sus direcciones y el acceso aleatorio permite la recuperación inmediata desde cualquier ubicación de la memoria."
   ]
  },
  {
   "cell_type": "markdown",
   "id": "186d1ad0-df27-4b56-b003-a757594cc5e7",
   "metadata": {},
   "source": [
    "##### Referencias:"
   ]
  },
  {
   "cell_type": "markdown",
   "id": "c01841c9-e02d-452e-840c-f8215981cbe1",
   "metadata": {},
   "source": [
    "Proaño, A. (2023). Access Method. GitHub. https://github.com/aproano2/cmp-3004-spring23-aproano/blob/main/week10/mem.ipynb\n",
    "\n",
    "‌"
   ]
  },
  {
   "cell_type": "markdown",
   "id": "f6d3313b-fd1e-4b01-a786-d77238e92f4b",
   "metadata": {},
   "source": [
    "#### **5) What common characteristics are shared by all RAID levels?**"
   ]
  },
  {
   "cell_type": "markdown",
   "id": "aef88089-3478-44f2-a526-e03d7e00074a",
   "metadata": {},
   "source": [
    "Todos los niveles de RAID comparten características comunes que contribuyen a su funcionalidad y beneficios. En primer lugar, se utilizan varios discos en configuraciones RAID, lo que permite una mayor capacidad de almacenamiento y un mejor rendimiento. Al distribuir los datos en varios discos, los niveles de RAID pueden gestionar las solicitudes de I/O en paralelo, lo que mejora el rendimiento general del sistema.\n",
    "En segundo lugar, los niveles de RAID incorporan la redundancia que se utiliza para almacenar información de paridad o datos duplicados, lo que garantiza la capacidad de recuperación de los datos en caso de que falle la unidad. Esta redundancia proporciona una capa adicional de protección y ayuda a mantener la integridad y disponibilidad de los datos.\n",
    "Además, la data striping es una característica común en los niveles de RAID. Implica dividir los datos en bloques y distribuirlos en varios discos, lo que permite mejorar las velocidades de lectura y escritura al permitir el acceso simultáneo a los datos.\n",
    "\n",
    "En general, dentro de las características compartidas por todos los niveles de RAID estan la utilización de varios discos, la incorporación de redundancia para la protección de datos y la distribución de datos para mejorar el rendimiento. Estas características hacen de RAID una tecnología eficaz para optimizar la capacidad de almacenamiento, la confiabilidad de los datos y el rendimiento del sistema."
   ]
  },
  {
   "cell_type": "markdown",
   "id": "6f9c846c-acee-4a98-b2f7-bc272b3fe6e5",
   "metadata": {},
   "source": [
    "##### Referencias:"
   ]
  },
  {
   "cell_type": "markdown",
   "id": "cee2ef43-0c2f-4cc0-b4b1-ff84b87c4163",
   "metadata": {},
   "source": [
    "Proaño, A. (2023). RAID. GitHub. https://github.com/aproano2/cmp-3004-spring23-aproano/blob/main/week11/mem-pt2.ipynb\n"
   ]
  }
 ],
 "metadata": {
  "kernelspec": {
   "display_name": "Python 3 (ipykernel)",
   "language": "python",
   "name": "python3"
  },
  "language_info": {
   "codemirror_mode": {
    "name": "ipython",
    "version": 3
   },
   "file_extension": ".py",
   "mimetype": "text/x-python",
   "name": "python",
   "nbconvert_exporter": "python",
   "pygments_lexer": "ipython3",
   "version": "3.9.13"
  }
 },
 "nbformat": 4,
 "nbformat_minor": 5
}
